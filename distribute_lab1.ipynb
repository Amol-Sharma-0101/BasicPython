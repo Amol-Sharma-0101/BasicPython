{
  "nbformat": 4,
  "nbformat_minor": 0,
  "metadata": {
    "kernelspec": {
      "display_name": "Python 3",
      "language": "python",
      "name": "python3"
    },
    "language_info": {
      "codemirror_mode": {
        "name": "ipython",
        "version": 3
      },
      "file_extension": ".py",
      "mimetype": "text/x-python",
      "name": "python",
      "nbconvert_exporter": "python",
      "pygments_lexer": "ipython3",
      "version": "3.7.6"
    },
    "colab": {
      "name": "distribute_lab1.ipynb",
      "provenance": [],
      "include_colab_link": true
    }
  },
  "cells": [
    {
      "cell_type": "markdown",
      "metadata": {
        "id": "view-in-github",
        "colab_type": "text"
      },
      "source": [
        "<a href=\"https://colab.research.google.com/github/Amol-Sharma-0101/BasicPython/blob/main/distribute_lab1.ipynb\" target=\"_parent\"><img src=\"https://colab.research.google.com/assets/colab-badge.svg\" alt=\"Open In Colab\"/></a>"
      ]
    },
    {
      "cell_type": "markdown",
      "metadata": {
        "id": "lzSNrhpN_IN0"
      },
      "source": [
        "# Lab 1: Dictionaries and Classes"
      ]
    },
    {
      "cell_type": "markdown",
      "metadata": {
        "id": "9FEgoWHx_IOK"
      },
      "source": [
        "## EXERCISE 1: Count words in Julius Caesar and make a text based histogram\n",
        "\n",
        "Building on the first lab, using lowercase words, lets make a histogram. Create a dictionary `worddict`, that has the counts of all the words in Caesar."
      ]
    },
    {
      "cell_type": "code",
      "metadata": {
        "id": "5VS1pOgzBD_N",
        "outputId": "3d722209-e4ac-4ae9-a802-06f94d6899f3",
        "colab": {
          "base_uri": "https://localhost:8080/"
        }
      },
      "source": [
        "!wget https://raw.githubusercontent.com/Amol-Sharma-0101/BasicPython/main/data/Julius%20Caesar.txt"
      ],
      "execution_count": 4,
      "outputs": [
        {
          "output_type": "stream",
          "text": [
            "--2020-12-19 08:01:22--  https://raw.githubusercontent.com/Amol-Sharma-0101/BasicPython/main/data/Julius%20Caesar.txt\n",
            "Resolving raw.githubusercontent.com (raw.githubusercontent.com)... 151.101.0.133, 151.101.64.133, 151.101.128.133, ...\n",
            "Connecting to raw.githubusercontent.com (raw.githubusercontent.com)|151.101.0.133|:443... connected.\n",
            "HTTP request sent, awaiting response... 200 OK\n",
            "Length: 120873 (118K) [text/plain]\n",
            "Saving to: ‘Julius Caesar.txt’\n",
            "\n",
            "Julius Caesar.txt   100%[===================>] 118.04K  --.-KB/s    in 0.01s   \n",
            "\n",
            "2020-12-19 08:01:23 (7.72 MB/s) - ‘Julius Caesar.txt’ saved [120873/120873]\n",
            "\n"
          ],
          "name": "stdout"
        }
      ]
    },
    {
      "cell_type": "code",
      "metadata": {
        "id": "MfFmKTr0_ION"
      },
      "source": [
        "# your code here\n",
        "## Read a file, parse lines, and get all words\n",
        "\n",
        "# make a list with all words in documents\n",
        "# the words can occur more than once\n",
        "wordlist = []  \n",
        "fd = open(\"Julius Caesar.txt\")\n",
        "lines = fd.readlines()\n",
        "fd.close()\n",
        "# strip newline characters and other whitespace off the edges\n",
        "cleaned_lines = [line.strip() for line in lines] \n",
        "# make a list of lists. \n",
        "# each inner list if the list of words on that line\n",
        "list_of_lines_words = [line.split() for line in lines]\n",
        "# Take each list of words, and get all the words\n",
        "for lines_words in list_of_lines_words:\n",
        "    wordlist = wordlist + [l.lower() for l in lines_words] # update the wordlist using the new list.\n",
        "worddict=dict()\n",
        "for word in wordlist:\n",
        "        if not word in worddict:\n",
        "            worddict[word] = 1\n",
        "        else:\n",
        "            worddict[word] += 1"
      ],
      "execution_count": 7,
      "outputs": []
    },
    {
      "cell_type": "markdown",
      "metadata": {
        "id": "BswEEhxa_IOQ"
      },
      "source": [
        "Now here is where the iterative nature of dictionaries can be used to our benefit. We sort the worddict, using the function `worddict.get` to provide the values, which are the counts."
      ]
    },
    {
      "cell_type": "code",
      "metadata": {
        "id": "UOJdMwam_IOS"
      },
      "source": [
        "topwords = sorted(worddict, key = worddict.get, reverse=True)"
      ],
      "execution_count": 8,
      "outputs": []
    },
    {
      "cell_type": "code",
      "metadata": {
        "id": "mL-SkKEg_IOU",
        "outputId": "2c308036-8ba3-4762-d53f-0cef8f7f13e0",
        "colab": {
          "base_uri": "https://localhost:8080/"
        }
      },
      "source": [
        "for word in topwords[:20]:\n",
        "    print(word, worddict[word])"
      ],
      "execution_count": 9,
      "outputs": [
        {
          "output_type": "stream",
          "text": [
            "the 629\n",
            "and 627\n",
            "i 499\n",
            "to 422\n",
            "of 374\n",
            "you 312\n",
            "a 275\n",
            "that 269\n",
            "is 236\n",
            "in 228\n",
            "brutus. 215\n",
            "not 207\n",
            "my 189\n",
            "he 185\n",
            "for 168\n",
            "his 157\n",
            "with 156\n",
            "it 153\n",
            "cassius. 150\n",
            "be 144\n"
          ],
          "name": "stdout"
        }
      ]
    },
    {
      "cell_type": "markdown",
      "metadata": {
        "id": "YlDvUrG__IOV"
      },
      "source": [
        "You can even make a hacky histogram for this by creating a '#' for every 10 occurences"
      ]
    },
    {
      "cell_type": "code",
      "metadata": {
        "id": "ceRnwJCD_IOW",
        "outputId": "34983a34-109d-44ab-dcbe-9c437adf09ff",
        "colab": {
          "base_uri": "https://localhost:8080/"
        }
      },
      "source": [
        "for word in topwords[:20]:\n",
        "    print(word+(20 - len(word))*' ', (worddict[word]//10)*'*')"
      ],
      "execution_count": 10,
      "outputs": [
        {
          "output_type": "stream",
          "text": [
            "the                  **************************************************************\n",
            "and                  **************************************************************\n",
            "i                    *************************************************\n",
            "to                   ******************************************\n",
            "of                   *************************************\n",
            "you                  *******************************\n",
            "a                    ***************************\n",
            "that                 **************************\n",
            "is                   ***********************\n",
            "in                   **********************\n",
            "brutus.              *********************\n",
            "not                  ********************\n",
            "my                   ******************\n",
            "he                   ******************\n",
            "for                  ****************\n",
            "his                  ***************\n",
            "with                 ***************\n",
            "it                   ***************\n",
            "cassius.             ***************\n",
            "be                   **************\n"
          ],
          "name": "stdout"
        }
      ]
    },
    {
      "cell_type": "markdown",
      "metadata": {
        "id": "PVPDeeQ5_IOW"
      },
      "source": [
        "## EXERCISE 2: Simulate a Bank Account"
      ]
    },
    {
      "cell_type": "code",
      "metadata": {
        "id": "lKEzalGo_IOX"
      },
      "source": [
        "class BankAccount:\n",
        "    def __init__(self, balance):\n",
        "        self.balance = balance\n",
        "        \n",
        "    def withdraw(self, amount):\n",
        "        self.balance = self.balance - amount"
      ],
      "execution_count": null,
      "outputs": []
    },
    {
      "cell_type": "code",
      "metadata": {
        "id": "7FBmkR2b_IOY"
      },
      "source": [
        "myaccount = BankAccount(100)\n",
        "print(myaccount.balance)\n",
        "myaccount.withdraw(20)\n",
        "myaccount.balance"
      ],
      "execution_count": null,
      "outputs": []
    },
    {
      "cell_type": "markdown",
      "metadata": {
        "id": "Ns2-X6lh_IOZ"
      },
      "source": [
        "Python supports inheritance. Indeed, in python, all classes inherit from object, which means that they all get some attributes and methods from object.\n",
        "\n",
        "What is inheritance, more precisely? In inheritance an object is based on another object. When inheritance is implemented, the methods and attributes that were defined in the base class will also be present in the inherited class. This is generally done to abstract away similar code in multiple classes. The abstracted code will reside in the base class and the previous classes will now inherit from the base class.\n",
        "\n",
        "Let's look at an example of inheritance. In the following example, Rocket is the base class and MarsRover is the inherited class. Notice the string interpolation in the formatting as well."
      ]
    },
    {
      "cell_type": "code",
      "metadata": {
        "id": "4XkRETJU_IOa"
      },
      "source": [
        "class Rocket:\n",
        "    def __init__(self, name, distance):\n",
        "        self.name = name\n",
        "        self.distance = distance\n",
        "\n",
        "    def launch(self):\n",
        "        return \"%s has reached %s\" % (self.name, self.distance)\n",
        "    \n",
        "    def get_maker(self):\n",
        "        return \"%s Launched\" % self.name\n",
        "\n",
        "\n",
        "class MarsRover(Rocket): # inheriting from the base class\n",
        "    def __init__(self, name, distance, maker):\n",
        "        Rocket.__init__(self, name, distance)\n",
        "        self.maker = maker\n",
        "\n",
        "    def get_maker(self):\n",
        "        return \"%s Launched by %s\" % (self.name, self.maker)"
      ],
      "execution_count": null,
      "outputs": []
    },
    {
      "cell_type": "code",
      "metadata": {
        "id": "B-nRGBn5_IOa"
      },
      "source": [
        "x = Rocket(\"Simple rocket\", \"till stratosphere\")\n",
        "y = MarsRover(\"Mangalyaan\", \"till Mars\", \"ISRO\")\n",
        "print(x.launch())\n",
        "print(y.launch()) # dispatches to Ricket's launch\n",
        "print(x.get_maker())\n",
        "print(y.get_maker())"
      ],
      "execution_count": null,
      "outputs": []
    },
    {
      "cell_type": "markdown",
      "metadata": {
        "id": "gex89wPS_IOb"
      },
      "source": [
        "`launch` is not defined by the derived class `MarsRover` so the `launch` for instance `y` is used from `Rocket`. On the other hand, `MarsRover` defines a new `get_maker` so that overrides the one from `Rocket`. Thus inheritance can be used to share functionality when needed and diversify when not."
      ]
    },
    {
      "cell_type": "markdown",
      "metadata": {
        "id": "YKmbeE37_IOc"
      },
      "source": [
        "Define an error checking bank account `ECBankAccount` which inherits from `BankAccount` but will not allow overdraws. If there is an overdraw raise a `ValueError` with a message \"Withdrawal Not Allowed\": read up on this. Create two accounts one regular and one he derived class instance and wihdraw more than the balance from both."
      ]
    },
    {
      "cell_type": "code",
      "metadata": {
        "id": "X98lxX5m_IOe"
      },
      "source": [
        "# youe code here\n",
        "class ECBankAccount:\n",
        "    def __init__(self, balance):\n",
        "        self.balance = balance\n",
        "        \n",
        "    def withdraw(self, amount):\n",
        "        check = self.balance - amount\n",
        "        if check >=0:\n",
        "            self.balance -= amount\n",
        "        else:\n",
        "            raise ValueError(\"Withdrawal Not Allowed\")"
      ],
      "execution_count": null,
      "outputs": []
    },
    {
      "cell_type": "code",
      "metadata": {
        "id": "CBFQOhwm_IOf"
      },
      "source": [
        "x = BankAccount(100)\n",
        "x.withdraw(120)\n",
        "x.balance"
      ],
      "execution_count": null,
      "outputs": []
    },
    {
      "cell_type": "code",
      "metadata": {
        "id": "7_yLlM35_IOg"
      },
      "source": [
        "y = ECBankAccount(100)\n",
        "y.withdraw(120)"
      ],
      "execution_count": null,
      "outputs": []
    },
    {
      "cell_type": "code",
      "metadata": {
        "id": "h9Ain1hz_IOg"
      },
      "source": [
        "y.balance"
      ],
      "execution_count": null,
      "outputs": []
    }
  ]
}